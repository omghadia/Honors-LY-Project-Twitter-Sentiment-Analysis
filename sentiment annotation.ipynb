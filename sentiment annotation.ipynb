{
 "cells": [
  {
   "cell_type": "code",
   "execution_count": 1,
   "id": "28f51ab2-3709-4075-aaef-cb65627d1de1",
   "metadata": {},
   "outputs": [
    {
     "name": "stderr",
     "output_type": "stream",
     "text": [
      "Device set to use cpu\n"
     ]
    },
    {
     "name": "stdout",
     "output_type": "stream",
     "text": [
      "Training set label distribution:\n",
      " label\n",
      "neutral     0.333529\n",
      "negative    0.333529\n",
      "positive    0.332942\n",
      "Name: proportion, dtype: float64\n",
      "Validation set label distribution:\n",
      " label\n",
      "positive    0.334247\n",
      "neutral     0.334247\n",
      "negative    0.331507\n",
      "Name: proportion, dtype: float64\n",
      "Test set label distribution:\n",
      " label\n",
      "positive    0.334247\n",
      "negative    0.334247\n",
      "neutral     0.331507\n",
      "Name: proportion, dtype: float64\n",
      "Data processing completed\n"
     ]
    }
   ],
   "source": [
    "import pandas as pd\n",
    "import numpy as np\n",
    "from sklearn.model_selection import train_test_split\n",
    "from imblearn.over_sampling import RandomOverSampler\n",
    "from imblearn.under_sampling import RandomUnderSampler\n",
    "from transformers import pipeline, AutoTokenizer, AutoModelForSequenceClassification\n",
    "\n",
    "df = pd.read_csv('tweets (6).csv')\n",
    "\n",
    "# Hugging Face ProsusAI model\n",
    "pipe = pipeline(\"text-classification\", model=\"ProsusAI/finbert\")\n",
    "\n",
    "tokenizer = AutoTokenizer.from_pretrained(\"ProsusAI/finbert\")\n",
    "model = AutoModelForSequenceClassification.from_pretrained(\"ProsusAI/finbert\")\n",
    "\n",
    "# Using 'Text' column for sentiment labelling\n",
    "if 'label' not in df.columns:\n",
    "    def get_sentiment(text):\n",
    "        result = pipe(str(text))\n",
    "        return result[0]['label'].lower()\n",
    "    \n",
    "    df['label'] = df['Text'].apply(get_sentiment)\n",
    "\n",
    "# Balancing the classes\n",
    "label_counts = df['label'].value_counts()\n",
    "min_class = label_counts.idxmin()\n",
    "max_class = label_counts.idxmax()\n",
    "\n",
    "if label_counts[min_class] / label_counts[max_class] < 0.5:  # Imbalance threshold\n",
    "    oversample = RandomOverSampler()\n",
    "    df_balanced, _ = oversample.fit_resample(df, df['label'])\n",
    "else:\n",
    "    df_balanced = df\n",
    "\n",
    "# Splitting data into train, validation and test sets\n",
    "train, temp = train_test_split(df_balanced, test_size=0.3, stratify=df_balanced['label'], random_state=42)\n",
    "val, test = train_test_split(temp, test_size=0.5, stratify=temp['label'], random_state=42)\n",
    "\n",
    "# Sanity check for label distribution\n",
    "def verify_labels(data, name):\n",
    "    print(f\"{name} set label distribution:\\n\", data['label'].value_counts(normalize=True))\n",
    "\n",
    "verify_labels(train, \"Training\")\n",
    "verify_labels(val, \"Validation\")\n",
    "verify_labels(test, \"Test\")\n",
    "\n",
    "train.to_csv(\"train_data.csv\", index=False)\n",
    "val.to_csv(\"val_data.csv\", index=False)\n",
    "test.to_csv(\"test_data.csv\", index=False)\n",
    "\n",
    "print(\"Data processing completed\")"
   ]
  }
 ],
 "metadata": {
  "kernelspec": {
   "display_name": "Python (binned_env)",
   "language": "python",
   "name": "myenv"
  },
  "language_info": {
   "codemirror_mode": {
    "name": "ipython",
    "version": 3
   },
   "file_extension": ".py",
   "mimetype": "text/x-python",
   "name": "python",
   "nbconvert_exporter": "python",
   "pygments_lexer": "ipython3",
   "version": "3.10.14"
  }
 },
 "nbformat": 4,
 "nbformat_minor": 5
}
